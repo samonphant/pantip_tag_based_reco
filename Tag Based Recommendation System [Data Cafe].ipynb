{
 "cells": [
  {
   "cell_type": "code",
   "execution_count": null,
   "metadata": {
    "collapsed": true
   },
   "outputs": [],
   "source": [
    "import pandas as pd\n",
    "import numpy as np\n",
    "from scipy.spatial import distance"
   ]
  },
  {
   "cell_type": "code",
   "execution_count": null,
   "metadata": {
    "collapsed": true
   },
   "outputs": [],
   "source": [
    "rawdata = pd.read_csv('D:/data cafe/MyProject_datacafe/training set/data_for_train.csv', delimiter=',', quotechar='\"')\n",
    "rawdata_np = rawdata.as_matrix()"
   ]
  },
  {
   "cell_type": "code",
   "execution_count": null,
   "metadata": {
    "collapsed": true
   },
   "outputs": [],
   "source": [
    "tokenized_tag = []\n",
    "for i in rawdata_np [ : ,2]:\n",
    "    tags = i.replace(' ','').replace('#','').replace('##','').split(',')\n",
    "    for tag in tags :\n",
    "        if tag not in tokenized_tag:\n",
    "            tokenized_tag.append(tag)"
   ]
  },
  {
   "cell_type": "code",
   "execution_count": null,
   "metadata": {
    "collapsed": true
   },
   "outputs": [],
   "source": [
    "from sklearn.preprocessing import MultiLabelBinarizer\n",
    "mlb = MultiLabelBinarizer(sparse_output=True)\n",
    "mlb.fit([tokenized_tag])"
   ]
  },
  {
   "cell_type": "code",
   "execution_count": null,
   "metadata": {
    "collapsed": true
   },
   "outputs": [],
   "source": [
    "# topic tags\n",
    "topic_tokenized_tag = []\n",
    "id_list = []\n",
    "for id,strtag in rawdata_np [ : ,[1,2]]:\n",
    "    if id not in id_list:\n",
    "        id_list.append(id)\n",
    "        tags = strtag.replace(' ','').replace('#','').replace('##','').split(',')\n",
    "        topic_tokenized_tag.append(tags)"
   ]
  },
  {
   "cell_type": "code",
   "execution_count": null,
   "metadata": {
    "collapsed": true
   },
   "outputs": [],
   "source": [
    "# user tags \n",
    "user_tag = {}\n",
    "for id,strtag in rawdata_np [ : ,[0,2]]:\n",
    "    tags = strtag.replace(' ','').replace('#','').replace('##','').split(',')\n",
    "    if id not in user_tag:\n",
    "        user_tag[id] = tags\n",
    "    else:\n",
    "        for tag in tags:\n",
    "            if tag not in user_tag[id]:\n",
    "                user_tag[id].append(tag)\n",
    "\n",
    "user_tokenized_tag = []\n",
    "user_id = []\n",
    "for uid in user_tag:\n",
    "    user_id.append(uid)\n",
    "    user_tokenized_tag.append(user_tag[uid])"
   ]
  },
  {
   "cell_type": "code",
   "execution_count": null,
   "metadata": {
    "collapsed": true
   },
   "outputs": [],
   "source": [
    "# mlb transform\n",
    "topic_matrix = mlb.transform(topic_tokenized_tag)\n",
    "user_matrix = mlb.transform(user_tokenized_tag)"
   ]
  },
  {
   "cell_type": "code",
   "execution_count": null,
   "metadata": {
    "collapsed": true
   },
   "outputs": [],
   "source": [
    "#user dict\n",
    "user_topic_read = pd.read_csv('D:/data cafe/MyProject_datacafe/data_set/user_dict.csv', delimiter=',', quotechar='\"')\n",
    "user_topic_read_np = user_topic_read.as_matrix()\n",
    "user_topic_read_dict = {}\n",
    "for i in user_topic_read_np:\n",
    "    if user_topic_read_dict.get(i[0]):\n",
    "        user_topic_read_dict[i[0]].append(i[1])\n",
    "    else:\n",
    "        user_topic_read_dict[i[0]] = [i[1]]\n",
    "# print(user_topic_read_dict)"
   ]
  },
  {
   "cell_type": "code",
   "execution_count": null,
   "metadata": {
    "collapsed": true
   },
   "outputs": [],
   "source": [
    "def distance(sparse_p1, sparse_p2):\n",
    "    p1 = sparse_p1.toarray()\n",
    "    p2 = sparse_p2.toarray()\n",
    "    if len(p1) == len(p2):\n",
    "        distance = np.sum(np.logical_xor(p1, p2))\n",
    "        return distance\n",
    "    else:\n",
    "        print(\"Those 2 points have different dimension\")"
   ]
  },
  {
   "cell_type": "code",
   "execution_count": null,
   "metadata": {
    "collapsed": true
   },
   "outputs": [],
   "source": [
    "recommendation_result = []\n",
    "for u_ind, user in enumerate(user_matrix):\n",
    "    min_distance = 99999\n",
    "    recommended_topic_id = 99999\n",
    "    for t_ind, topic in enumerate(topic_matrix):\n",
    "        dist = distance(user, topic)\n",
    "#         dist = distance.euclidean(user.toarray(),topic.toarray())\n",
    "        if dist < min_distance:\n",
    "            min_distance = dist\n",
    "            recommended_topic_id = id_list[t_ind]\n",
    "    result.append(recommended_topic_id)\n",
    "    if u_ind + 1 % 1000 == 0:\n",
    "        print(\"Running on user index :\",u_ind+1)\n",
    "    print(u_ind)"
   ]
  },
  {
   "cell_type": "code",
   "execution_count": null,
   "metadata": {
    "collapsed": true
   },
   "outputs": [],
   "source": [
    "#open file \n",
    "import json\n",
    "d = dict(zip(user_id[:1145], recommendation_result))\n",
    "json.dump(d, open('recommendation_for_user_dict.json', 'w+'))\n",
    "with open('D:/data cafe/recommendation/recommendation_for_user_dict.json') as recommendation_for_user_dict:    \n",
    "    recommendation_for_user_dict = json.load(recommendation_for_user_dict)"
   ]
  },
  {
   "cell_type": "code",
   "execution_count": null,
   "metadata": {
    "collapsed": true
   },
   "outputs": [],
   "source": [
    "#check duplicate\n",
    "recommendation_for_user_dict_not_dup={}\n",
    "for user_id in recommendation_for_user_dict:\n",
    "    a = recommendation_for_user_dict[user_id]\n",
    "    b = user_topic_read_dict[int(user_id)]\n",
    "    if a not in b:\n",
    "        recommendation_for_user_dict_not_dup[user_id] = recommendation_for_user_dict[user_id]"
   ]
  },
  {
   "cell_type": "code",
   "execution_count": null,
   "metadata": {
    "collapsed": true
   },
   "outputs": [],
   "source": [
    "# test set\n",
    "test_set_read = pd.read_csv('D:/data cafe/MyProject_datacafe/test set/data_for_test.csv', delimiter=',', quotechar='\"')\n",
    "test_set_np = test_set_read.as_matrix()\n",
    "test_set_dict = {}\n",
    "for i in test_set_np:\n",
    "    if test_set_dict.get(i[0]):\n",
    "        test_set_dict[i[0]].append(i[1])\n",
    "    else:\n",
    "        test_set_dict[i[0]] = [i[1]]"
   ]
  },
  {
   "cell_type": "code",
   "execution_count": null,
   "metadata": {
    "collapsed": true
   },
   "outputs": [],
   "source": [
    "# evaluate model\n",
    "evaluation_recomendation={}\n",
    "for user_id in recommendation_for_user_dict_not_dup:\n",
    "    a = recommendation_for_user_dict_not_dup[user_id]\n",
    "    b = test_set_dict[int(user_id)]\n",
    "    if a in b:\n",
    "        evaluation_recomendation[user_id] = recommendation_for_user_dict_not_dup[user_id]"
   ]
  }
 ],
 "metadata": {
  "kernelspec": {
   "display_name": "Python 3",
   "language": "python",
   "name": "python3"
  },
  "language_info": {
   "codemirror_mode": {
    "name": "ipython",
    "version": 3
   },
   "file_extension": ".py",
   "mimetype": "text/x-python",
   "name": "python",
   "nbconvert_exporter": "python",
   "pygments_lexer": "ipython3",
   "version": "3.6.3"
  }
 },
 "nbformat": 4,
 "nbformat_minor": 2
}
